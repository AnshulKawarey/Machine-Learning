{
 "cells": [
  {
   "cell_type": "markdown",
   "metadata": {},
   "source": [
    "# Day 3: Data Preprocessing - Missing Values and Encoding\n",
    "\n",
    "**Course**: Machine Learning with Python: From Basics to Applications  \n",
    "**Objective**: Learn to handle missing data and encode categorical variables to prepare datasets for machine learning models.  \n",
    "**Prerequisites**: Basic Python knowledge, familiarity with NumPy and Pandas (from Day 2), and the raw Titanic dataset (`titanic.csv`).  \n",
    "**Tools**: Pandas, scikit-learn (install with `pip install pandas scikit-learn`).  \n",
    "**Dataset**: Titanic dataset (raw, available from Kaggle or provided).  \n",
    "\n",
    "In this notebook, we will:  \n",
    "1. Load the raw Titanic dataset.  \n",
    "2. Check for and handle missing values (impute `Age` with median, drop rows with missing `Embarked`).  \n",
    "3. Encode categorical variables (`Gender` with `LabelEncoder`, `Embarked` with one-hot encoding).  \n",
    "4. Save the preprocessed dataset as a CSV.  \n",
    "5. Verify the preprocessing steps.  "
   ]
  },
  {
   "cell_type": "markdown",
   "metadata": {},
   "source": [
    "## Step 1: Import Libraries\n",
    "\n",
    "We need Pandas for data handling and scikit-learn’s `LabelEncoder` for encoding categorical variables."
   ]
  },
  {
   "cell_type": "code",
   "execution_count": 16,
   "metadata": {},
   "outputs": [],
   "source": [
    "import pandas as pd\n",
    "from sklearn.preprocessing import LabelEncoder"
   ]
  },
  {
   "cell_type": "markdown",
   "metadata": {},
   "source": [
    "## Step 2: Load the Titanic Dataset\n",
    "\n",
    "Load the raw Titanic dataset (`titanic.csv`) and inspect it to understand its structure and identify missing values."
   ]
  },
  {
   "cell_type": "code",
   "execution_count": 19,
   "metadata": {},
   "outputs": [
    {
     "name": "stdout",
     "output_type": "stream",
     "text": [
      "First 5 rows of raw data:\n",
      "\n",
      "Dataset info:\n",
      "<class 'pandas.core.frame.DataFrame'>\n",
      "RangeIndex: 891 entries, 0 to 890\n",
      "Data columns (total 12 columns):\n",
      " #   Column       Non-Null Count  Dtype  \n",
      "---  ------       --------------  -----  \n",
      " 0   PassengerId  891 non-null    int64  \n",
      " 1   Survived     891 non-null    int64  \n",
      " 2   Pclass       891 non-null    int64  \n",
      " 3   Name         891 non-null    object \n",
      " 4   Gender       891 non-null    object \n",
      " 5   Age          714 non-null    float64\n",
      " 6   SibSp        891 non-null    int64  \n",
      " 7   Parch        891 non-null    int64  \n",
      " 8   Ticket       891 non-null    object \n",
      " 9   Fare         891 non-null    float64\n",
      " 10  Cabin        204 non-null    object \n",
      " 11  Embarked     889 non-null    object \n",
      "dtypes: float64(2), int64(5), object(5)\n",
      "memory usage: 83.7+ KB\n",
      "\n",
      "Missing values:\n",
      "PassengerId      0\n",
      "Survived         0\n",
      "Pclass           0\n",
      "Name             0\n",
      "Gender           0\n",
      "Age            177\n",
      "SibSp            0\n",
      "Parch            0\n",
      "Ticket           0\n",
      "Fare             0\n",
      "Cabin          687\n",
      "Embarked         2\n",
      "dtype: int64\n"
     ]
    }
   ],
   "source": [
    "# Load the dataset\n",
    "df = pd.read_csv('titanic.csv')\n",
    "\n",
    "# Display first 5 rows\n",
    "print(\"First 5 rows of raw data:\")\n",
    "df.head()\n",
    "\n",
    "# Check data info and missing values\n",
    "print(\"\\nDataset info:\")\n",
    "df.info()\n",
    "\n",
    "print(\"\\nMissing values:\")\n",
    "print(df.isnull().sum())"
   ]
  },
  {
   "cell_type": "markdown",
   "metadata": {},
   "source": [
    "**Expected Output**:  \n",
    "- `df.head()` shows columns like `PassengerId`, `Survived`, `Pclass`, `Gender`, `Age`, `Fare`, `Embarked`, etc.  \n",
    "- `df.info()` shows data types (e.g., `Age` as float, `Gender` as object).  \n",
    "- `df.isnull().sum()` likely shows ~177 missing values for `Age`, ~2 for `Embarked`, and many for `Cabin`.  \n",
    "\n",
    "**Note**: We’ll focus on `Age` and `Embarked` for this exercise; `Cabin` has too many missing values and can be ignored."
   ]
  },
  {
   "cell_type": "markdown",
   "metadata": {},
   "source": [
    "## Step 3: Handle Missing Values\n",
    "\n",
    "Impute missing `Age` values with the median to preserve data. Drop rows with missing `Embarked` values since they are few."
   ]
  },
  {
   "cell_type": "code",
   "execution_count": 20,
   "metadata": {},
   "outputs": [
    {
     "name": "stdout",
     "output_type": "stream",
     "text": [
      "Missing values after handling:\n",
      "PassengerId      0\n",
      "Survived         0\n",
      "Pclass           0\n",
      "Name             0\n",
      "Gender           0\n",
      "Age              0\n",
      "SibSp            0\n",
      "Parch            0\n",
      "Ticket           0\n",
      "Fare             0\n",
      "Cabin          687\n",
      "Embarked         0\n",
      "dtype: int64\n"
     ]
    }
   ],
   "source": [
    "# Impute missing Age with median\n",
    "df['Age'] = df['Age'].fillna(df['Age'].median())\n",
    "# Drop rows with missing Embarked\n",
    "df.dropna(subset=['Embarked'], inplace=True)\n",
    "\n",
    "# Verify missing values\n",
    "print(\"Missing values after handling:\")\n",
    "print(df.isnull().sum())"
   ]
  },
  {
   "cell_type": "markdown",
   "metadata": {},
   "source": [
    "**Expected Output**:  \n",
    "- No missing values for `Age` or `Embarked`.  \n",
    "- `Cabin` may still have missing values, but we’re ignoring it for now."
   ]
  },
  {
   "cell_type": "markdown",
   "metadata": {},
   "source": [
    "## Step 4: Encode Categorical Variables\n",
    "\n",
    "Encode `Gender` using `LabelEncoder` (male=0, female=1). Encode `Embarked` using one-hot encoding with `pd.get_dummies` and drop the first dummy column to avoid multicollinearity."
   ]
  },
  {
   "cell_type": "code",
   "execution_count": 21,
   "metadata": {},
   "outputs": [
    {
     "name": "stdout",
     "output_type": "stream",
     "text": [
      "\n",
      "First 5 rows after encoding:\n"
     ]
    },
    {
     "data": {
      "text/html": [
       "<div>\n",
       "<style scoped>\n",
       "    .dataframe tbody tr th:only-of-type {\n",
       "        vertical-align: middle;\n",
       "    }\n",
       "\n",
       "    .dataframe tbody tr th {\n",
       "        vertical-align: top;\n",
       "    }\n",
       "\n",
       "    .dataframe thead th {\n",
       "        text-align: right;\n",
       "    }\n",
       "</style>\n",
       "<table border=\"1\" class=\"dataframe\">\n",
       "  <thead>\n",
       "    <tr style=\"text-align: right;\">\n",
       "      <th></th>\n",
       "      <th>PassengerId</th>\n",
       "      <th>Survived</th>\n",
       "      <th>Pclass</th>\n",
       "      <th>Name</th>\n",
       "      <th>Gender</th>\n",
       "      <th>Age</th>\n",
       "      <th>SibSp</th>\n",
       "      <th>Parch</th>\n",
       "      <th>Ticket</th>\n",
       "      <th>Fare</th>\n",
       "      <th>Cabin</th>\n",
       "      <th>Embarked_Q</th>\n",
       "      <th>Embarked_S</th>\n",
       "    </tr>\n",
       "  </thead>\n",
       "  <tbody>\n",
       "    <tr>\n",
       "      <th>0</th>\n",
       "      <td>1</td>\n",
       "      <td>0</td>\n",
       "      <td>3</td>\n",
       "      <td>Braund, Mr. Owen Harris</td>\n",
       "      <td>1</td>\n",
       "      <td>22.0</td>\n",
       "      <td>1</td>\n",
       "      <td>0</td>\n",
       "      <td>A/5 21171</td>\n",
       "      <td>7.2500</td>\n",
       "      <td>NaN</td>\n",
       "      <td>False</td>\n",
       "      <td>True</td>\n",
       "    </tr>\n",
       "    <tr>\n",
       "      <th>1</th>\n",
       "      <td>2</td>\n",
       "      <td>1</td>\n",
       "      <td>1</td>\n",
       "      <td>Cumings, Mrs. John Bradley (Florence Briggs Th...</td>\n",
       "      <td>0</td>\n",
       "      <td>38.0</td>\n",
       "      <td>1</td>\n",
       "      <td>0</td>\n",
       "      <td>PC 17599</td>\n",
       "      <td>71.2833</td>\n",
       "      <td>C85</td>\n",
       "      <td>False</td>\n",
       "      <td>False</td>\n",
       "    </tr>\n",
       "    <tr>\n",
       "      <th>2</th>\n",
       "      <td>3</td>\n",
       "      <td>1</td>\n",
       "      <td>3</td>\n",
       "      <td>Heikkinen, Miss. Laina</td>\n",
       "      <td>0</td>\n",
       "      <td>26.0</td>\n",
       "      <td>0</td>\n",
       "      <td>0</td>\n",
       "      <td>STON/O2. 3101282</td>\n",
       "      <td>7.9250</td>\n",
       "      <td>NaN</td>\n",
       "      <td>False</td>\n",
       "      <td>True</td>\n",
       "    </tr>\n",
       "    <tr>\n",
       "      <th>3</th>\n",
       "      <td>4</td>\n",
       "      <td>1</td>\n",
       "      <td>1</td>\n",
       "      <td>Futrelle, Mrs. Jacques Heath (Lily May Peel)</td>\n",
       "      <td>0</td>\n",
       "      <td>35.0</td>\n",
       "      <td>1</td>\n",
       "      <td>0</td>\n",
       "      <td>113803</td>\n",
       "      <td>53.1000</td>\n",
       "      <td>C123</td>\n",
       "      <td>False</td>\n",
       "      <td>True</td>\n",
       "    </tr>\n",
       "    <tr>\n",
       "      <th>4</th>\n",
       "      <td>5</td>\n",
       "      <td>0</td>\n",
       "      <td>3</td>\n",
       "      <td>Allen, Mr. William Henry</td>\n",
       "      <td>1</td>\n",
       "      <td>35.0</td>\n",
       "      <td>0</td>\n",
       "      <td>0</td>\n",
       "      <td>373450</td>\n",
       "      <td>8.0500</td>\n",
       "      <td>NaN</td>\n",
       "      <td>False</td>\n",
       "      <td>True</td>\n",
       "    </tr>\n",
       "  </tbody>\n",
       "</table>\n",
       "</div>"
      ],
      "text/plain": [
       "   PassengerId  Survived  Pclass  \\\n",
       "0            1         0       3   \n",
       "1            2         1       1   \n",
       "2            3         1       3   \n",
       "3            4         1       1   \n",
       "4            5         0       3   \n",
       "\n",
       "                                                Name  Gender   Age  SibSp  \\\n",
       "0                            Braund, Mr. Owen Harris       1  22.0      1   \n",
       "1  Cumings, Mrs. John Bradley (Florence Briggs Th...       0  38.0      1   \n",
       "2                             Heikkinen, Miss. Laina       0  26.0      0   \n",
       "3       Futrelle, Mrs. Jacques Heath (Lily May Peel)       0  35.0      1   \n",
       "4                           Allen, Mr. William Henry       1  35.0      0   \n",
       "\n",
       "   Parch            Ticket     Fare Cabin  Embarked_Q  Embarked_S  \n",
       "0      0         A/5 21171   7.2500   NaN       False        True  \n",
       "1      0          PC 17599  71.2833   C85       False       False  \n",
       "2      0  STON/O2. 3101282   7.9250   NaN       False        True  \n",
       "3      0            113803  53.1000  C123       False        True  \n",
       "4      0            373450   8.0500   NaN       False        True  "
      ]
     },
     "execution_count": 21,
     "metadata": {},
     "output_type": "execute_result"
    }
   ],
   "source": [
    "# Encode Gender with LabelEncoder\n",
    "le = LabelEncoder()\n",
    "df['Gender'] = le.fit_transform(df['Gender'])\n",
    "\n",
    "# Encode Embarked with one-hot encoding\n",
    "df = pd.get_dummies(df, columns=['Embarked'], drop_first=True)\n",
    "\n",
    "# Display first 5 rows after encoding\n",
    "print(\"\\nFirst 5 rows after encoding:\")\n",
    "df.head()"
   ]
  },
  {
   "cell_type": "markdown",
   "metadata": {},
   "source": [
    "**Expected Output**:  \n",
    "- `Gender` is now 0 or 1 (0=male, 1=female).  \n",
    "- `Embarked` is replaced by `Embarked_C` and `Embarked_Q` (binary columns), with `Embarked_S` dropped."
   ]
  },
  {
   "cell_type": "markdown",
   "metadata": {},
   "source": [
    "## Step 5: Save Preprocessed Dataset\n",
    "\n",
    "Save the preprocessed dataset as `titanic_preprocessed.csv` for use in future sessions."
   ]
  },
  {
   "cell_type": "code",
   "execution_count": 22,
   "metadata": {},
   "outputs": [
    {
     "name": "stdout",
     "output_type": "stream",
     "text": [
      "Preprocessed dataset saved as titanic_preprocessed.csv\n"
     ]
    }
   ],
   "source": [
    "# Save preprocessed data\n",
    "df.to_csv('titanic_preprocessed.csv', index=False)\n",
    "\n",
    "print(\"Preprocessed dataset saved as titanic_preprocessed.csv\")"
   ]
  },
  {
   "cell_type": "markdown",
   "metadata": {},
   "source": [
    "## Step 6: Verification\n",
    "\n",
    "Verify that the dataset has no missing values, `Gender` is encoded as 0/1, and `Embarked` is one-hot encoded."
   ]
  },
  {
   "cell_type": "code",
   "execution_count": 24,
   "metadata": {},
   "outputs": [
    {
     "name": "stdout",
     "output_type": "stream",
     "text": [
      "\n",
      "Verify titanic_preprocessed.csv:\n",
      "   PassengerId  Survived  Pclass  \\\n",
      "0            1         0       3   \n",
      "1            2         1       1   \n",
      "2            3         1       3   \n",
      "3            4         1       1   \n",
      "4            5         0       3   \n",
      "\n",
      "                                                Name  Gender   Age  SibSp  \\\n",
      "0                            Braund, Mr. Owen Harris       1  22.0      1   \n",
      "1  Cumings, Mrs. John Bradley (Florence Briggs Th...       0  38.0      1   \n",
      "2                             Heikkinen, Miss. Laina       0  26.0      0   \n",
      "3       Futrelle, Mrs. Jacques Heath (Lily May Peel)       0  35.0      1   \n",
      "4                           Allen, Mr. William Henry       1  35.0      0   \n",
      "\n",
      "   Parch            Ticket     Fare Cabin  Embarked_Q  Embarked_S  \n",
      "0      0         A/5 21171   7.2500   NaN       False        True  \n",
      "1      0          PC 17599  71.2833   C85       False       False  \n",
      "2      0  STON/O2. 3101282   7.9250   NaN       False        True  \n",
      "3      0            113803  53.1000  C123       False        True  \n",
      "4      0            373450   8.0500   NaN       False        True  \n",
      "\n",
      "Missing values in preprocessed data:\n",
      "PassengerId      0\n",
      "Survived         0\n",
      "Pclass           0\n",
      "Name             0\n",
      "Gender           0\n",
      "Age              0\n",
      "SibSp            0\n",
      "Parch            0\n",
      "Ticket           0\n",
      "Fare             0\n",
      "Cabin          687\n",
      "Embarked_Q       0\n",
      "Embarked_S       0\n",
      "dtype: int64\n",
      "\n",
      "Unique values in Gender: [1 0]\n",
      "\n",
      "Columns after encoding: ['PassengerId', 'Survived', 'Pclass', 'Name', 'Gender', 'Age', 'SibSp', 'Parch', 'Ticket', 'Fare', 'Cabin', 'Embarked_Q', 'Embarked_S']\n"
     ]
    }
   ],
   "source": [
    "# Verify saved file\n",
    "print(\"\\nVerify titanic_preprocessed.csv:\")\n",
    "print(pd.read_csv('titanic_preprocessed.csv').head())\n",
    "\n",
    "# Confirm no missing values\n",
    "print(\"\\nMissing values in preprocessed data:\")\n",
    "print(df.isnull().sum())\n",
    "\n",
    "# Check unique values for Gender\n",
    "print(\"\\nUnique values in Gender:\", df['Gender'].unique())\n",
    "\n",
    "# Check columns for Embarked encoding\n",
    "print(\"\\nColumns after encoding:\", df.columns.tolist())"
   ]
  },
  {
   "cell_type": "markdown",
   "metadata": {},
   "source": [
    "**Expected Output**:  \n",
    "- No missing values (except possibly `Cabin`, which we’re ignoring).  \n",
    "- `Gender` has values [0, 1].  \n",
    "- Columns include `Embarked_C`, `Embarked_Q` (but not `Embarked_S`)."
   ]
  },
  {
   "cell_type": "markdown",
   "metadata": {},
   "source": [
    "## Assignment\n",
    "\n",
    "1. Run this notebook to preprocess the Titanic dataset.  \n",
    "2. Verify no missing values for `Age` and `Embarked`.  \n",
    "3. Confirm `Gender` is encoded as 0/1 and `Embarked` is one-hot encoded (`Embarked_C`, `Embarked_Q`).  \n",
    "4. Ensure the saved `titanic_preprocessed.csv` contains the expected columns and data.  \n",
    "5. Submit a screenshot of the notebook output showing the verification steps (missing values, unique values for `Gender`, and column names).  \n",
    "\n",
    "**Next Steps**: On Day 4, we’ll split this preprocessed dataset into training and test sets and apply feature scaling."
   ]
  },
  {
   "cell_type": "code",
   "execution_count": null,
   "metadata": {},
   "outputs": [],
   "source": []
  }
 ],
 "metadata": {
  "kernelspec": {
   "display_name": "Python 3 (ipykernel)",
   "language": "python",
   "name": "python3"
  },
  "language_info": {
   "codemirror_mode": {
    "name": "ipython",
    "version": 3
   },
   "file_extension": ".py",
   "mimetype": "text/x-python",
   "name": "python",
   "nbconvert_exporter": "python",
   "pygments_lexer": "ipython3",
   "version": "3.10.16"
  }
 },
 "nbformat": 4,
 "nbformat_minor": 4
}
