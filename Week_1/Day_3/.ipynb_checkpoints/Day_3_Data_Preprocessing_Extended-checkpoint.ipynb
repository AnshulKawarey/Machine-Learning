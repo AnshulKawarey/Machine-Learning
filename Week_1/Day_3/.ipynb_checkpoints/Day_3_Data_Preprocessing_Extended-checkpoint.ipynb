{
 "cells": [
  {
   "cell_type": "markdown",
   "metadata": {},
   "source": [
    "# Day 3: Data Preprocessing – Missing Values, Label Encoding, One-Hot Encoding\n",
    "\n",
    "Welcome to Day 3 of the Machine Learning with Python course. Today, we'll explore how to clean and prepare data by handling missing values and converting categorical data into numerical form."
   ]
  },
  {
   "cell_type": "markdown",
   "metadata": {},
   "source": [
    "## 1. Why Preprocessing Matters\n",
    "Machine Learning models require numerical, complete, and standardized data to function effectively. Raw data often contains:\n",
    "- Missing values\n",
    "- Non-numeric (categorical) columns\n",
    "- Inconsistent formatting"
   ]
  },
  {
   "cell_type": "markdown",
   "metadata": {},
   "source": [
    "## 2. Load Dataset\n",
    "We'll use the Titanic dataset for today's preprocessing tasks."
   ]
  },
  {
   "cell_type": "code",
   "execution_count": null,
   "metadata": {},
   "outputs": [],
   "source": [
    "import pandas as pd\n",
    "\n",
    "# Load Titanic dataset\n",
    "df = pd.read_csv(\"https://raw.githubusercontent.com/datasciencedojo/datasets/master/titanic.csv\")\n",
    "df.head()"
   ]
  },
  {
   "cell_type": "markdown",
   "metadata": {},
   "source": [
    "## 3. Identifying Missing Data"
   ]
  },
  {
   "cell_type": "code",
   "execution_count": null,
   "metadata": {},
   "outputs": [],
   "source": [
    "df.isnull().sum()"
   ]
  },
  {
   "cell_type": "markdown",
   "metadata": {},
   "source": [
    "## 4. Handling Missing Values\n",
    "We will:\n",
    "- Drop the 'Cabin' column (too many missing values)\n",
    "- Fill missing 'Age' with median\n",
    "- Fill missing 'Embarked' with mode"
   ]
  },
  {
   "cell_type": "code",
   "execution_count": null,
   "metadata": {},
   "outputs": [],
   "source": [
    "# Drop Cabin if it exists\n",
    "if 'Cabin' in df.columns:\n",
    "    df.drop(columns='Cabin', inplace=True)\n",
    "\n",
    "# Fill Age with median\n",
    "df['Age'] = df['Age'].fillna(df['Age'].median())\n",
    "\n",
    "# Fill Embarked with mode\n",
    "df['Embarked'] = df['Embarked'].fillna(df['Embarked'].mode()[0])"
   ]
  },
  {
   "cell_type": "markdown",
   "metadata": {},
   "source": [
    "## 5. Handling Categorical Data\n",
    "We'll use two methods:\n",
    "- Label Encoding (for binary or ordinal)\n",
    "- One-Hot Encoding (for nominal)"
   ]
  },
  {
   "cell_type": "code",
   "execution_count": null,
   "metadata": {},
   "outputs": [],
   "source": [
    "from sklearn.preprocessing import LabelEncoder\n",
    "\n",
    "# Label Encode 'Sex'\n",
    "le = LabelEncoder()\n",
    "df['Sex_encoded'] = le.fit_transform(df['Sex'])\n",
    "df[['Sex', 'Sex_encoded']].head()"
   ]
  },
  {
   "cell_type": "markdown",
   "metadata": {},
   "source": [
    "Label Encoding assigns integer values to classes. It works for binary categories but may mislead the model for non-ordinal categories."
   ]
  },
  {
   "cell_type": "code",
   "execution_count": null,
   "metadata": {},
   "outputs": [],
   "source": [
    "# One-Hot Encode 'Embarked'\n",
    "df = pd.get_dummies(df, columns=['Embarked'], drop_first=True)\n",
    "df.head()"
   ]
  },
  {
   "cell_type": "markdown",
   "metadata": {},
   "source": [
    "One-Hot Encoding creates a new binary column for each category and avoids implying any order."
   ]
  },
  {
   "cell_type": "markdown",
   "metadata": {},
   "source": [
    "## 6. Final Cleanup\n",
    "Remove unused columns and inspect final structure."
   ]
  },
  {
   "cell_type": "code",
   "execution_count": null,
   "metadata": {},
   "outputs": [],
   "source": [
    "# Drop irrelevant columns\n",
    "df.drop(columns=['PassengerId', 'Name', 'Ticket'], inplace=True)\n",
    "df.head()"
   ]
  },
  {
   "cell_type": "markdown",
   "metadata": {},
   "source": [
    "## 7. Summary\n",
    "- Handled missing data using drop, median, and mode\n",
    "- Encoded categorical features using Label and One-Hot Encoding\n",
    "- Prepared the dataset for modeling"
   ]
  },
  {
   "cell_type": "markdown",
   "metadata": {},
   "source": [
    "## 📝 Assignment\n",
    "Use the **Iris dataset**:\n",
    "- Check for missing values (introduce some manually if needed)\n",
    "- Encode the `species` column using:\n",
    "  - Label Encoding\n",
    "  - One-Hot Encoding\n",
    "- Visualize and compare the transformed columns\n",
    "- Save both versions for future modeling"
   ]
  }
 ],
 "metadata": {
  "kernelspec": {
   "display_name": "Python 3",
   "language": "python",
   "name": "python3"
  },
  "language_info": {
   "name": "python",
   "version": "3.x"
  }
 },
 "nbformat": 4,
 "nbformat_minor": 2
}
